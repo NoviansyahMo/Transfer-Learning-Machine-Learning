{
  "nbformat": 4,
  "nbformat_minor": 0,
  "metadata": {
    "colab": {
      "name": "Modul 6 ML - Transfer Learning.ipynb",
      "provenance": [],
      "collapsed_sections": []
    },
    "kernelspec": {
      "name": "python3",
      "display_name": "Python 3"
    }
  },
  "cells": [
    {
      "cell_type": "markdown",
      "metadata": {
        "id": "xop3SsUgE6wB"
      },
      "source": [
        "<img src = \"https://imgur.com/HE0kDhA.jpg\"  align = \"center\">"
      ]
    },
    {
      "cell_type": "markdown",
      "metadata": {
        "id": "wQBa4hXoxDUd"
      },
      "source": [
        "# **Transfer Learning**"
      ]
    },
    {
      "cell_type": "markdown",
      "metadata": {
        "id": "7-UCcY4k4tVt"
      },
      "source": [
        "Di modul-modul sebelumnya, kita sudah belajar bagaimana cara membuat arsitektur CNN dari awal (*from scratch*). Membuat arsitektur sendiri memang lebih fleksibel. Kita dapat menambah dan mengurangi layer semau kita. Akan tetapi, membuat arsitektur sendiri kadangkala juga merepotkan. Karena kita harus mengatur (melakukan tuning) terhadap begitu banyak parameter. Ada cara yang lebih baik dalam membuat model deep learning menggunakan metode CNN, yakni dengan memanfaatkan model yang telah dibuat oleh peneliti sebelumnya. Model-model ini terbukti mampu menghasilkan nilai akurasi dan nilai error yang baik, serta menduduki peringkat atas di beberapa kompetisi. Beberapa model sudah disediakan oleh library Keras, dan kita hanya tinggal menggunakannya. Proses menggunakan kembali model yang sudah ada, untuk dipasang di dataset yang berbeda, dikenal dengan istilah **Transfer Learning**\n",
        "\n",
        "\n"
      ]
    },
    {
      "cell_type": "markdown",
      "metadata": {
        "id": "SKiv79P8PziX"
      },
      "source": [
        "\n",
        "\n",
        "---\n",
        "\n",
        "\n",
        "\n",
        "---\n",
        "\n"
      ]
    },
    {
      "cell_type": "markdown",
      "metadata": {
        "id": "WdQqGtU6UMWc"
      },
      "source": [
        "# Langkah Praktikum"
      ]
    },
    {
      "cell_type": "markdown",
      "metadata": {
        "id": "aMl_RQ-XUT0u"
      },
      "source": [
        "<h3>Load Dataset</h3>"
      ]
    },
    {
      "cell_type": "code",
      "metadata": {
        "id": "bV7gLuptP1S2",
        "colab": {
          "base_uri": "https://localhost:8080/"
        },
        "outputId": "54c52571-c861-426d-df7f-6f4d7233f5ca"
      },
      "source": [
        "# Download dataset\n",
        "!wget --no-check-certificate \\\n",
        "    https://storage.googleapis.com/mledu-datasets/cats_and_dogs_filtered.zip \\\n",
        "    -O /tmp/cats_and_dogs_filtered.zip"
      ],
      "execution_count": 1,
      "outputs": [
        {
          "output_type": "stream",
          "text": [
            "--2021-01-19 13:42:38--  https://storage.googleapis.com/mledu-datasets/cats_and_dogs_filtered.zip\n",
            "Resolving storage.googleapis.com (storage.googleapis.com)... 74.125.137.128, 142.250.101.128, 2607:f8b0:4023:c03::80, ...\n",
            "Connecting to storage.googleapis.com (storage.googleapis.com)|74.125.137.128|:443... connected.\n",
            "HTTP request sent, awaiting response... 200 OK\n",
            "Length: 68606236 (65M) [application/zip]\n",
            "Saving to: ‘/tmp/cats_and_dogs_filtered.zip’\n",
            "\n",
            "/tmp/cats_and_dogs_ 100%[===================>]  65.43M   246MB/s    in 0.3s    \n",
            "\n",
            "2021-01-19 13:42:39 (246 MB/s) - ‘/tmp/cats_and_dogs_filtered.zip’ saved [68606236/68606236]\n",
            "\n"
          ],
          "name": "stdout"
        }
      ]
    },
    {
      "cell_type": "code",
      "metadata": {
        "id": "f21s1HzjP4fk"
      },
      "source": [
        "# Ekstrak dataset\n",
        "\n",
        "import os\n",
        "import zipfile\n",
        "\n",
        "local_zip = '/tmp/cats_and_dogs_filtered.zip'\n",
        "zip_ref = zipfile.ZipFile(local_zip, 'r')\n",
        "zip_ref.extractall('/tmp')\n",
        "zip_ref.close()"
      ],
      "execution_count": 2,
      "outputs": []
    },
    {
      "cell_type": "code",
      "metadata": {
        "id": "-CPQs5CWP63w"
      },
      "source": [
        "# Definisikan path untuk data train dan data validation\n",
        "\n",
        "base_dir = '/tmp/cats_and_dogs_filtered'\n",
        "\n",
        "train_dir = os.path.join(base_dir, 'train')\n",
        "validation_dir = os.path.join(base_dir, 'validation')"
      ],
      "execution_count": 3,
      "outputs": []
    },
    {
      "cell_type": "markdown",
      "metadata": {
        "id": "4kOAUD4vLLvJ"
      },
      "source": [
        "Karena model yang nantinya kita gunakan cukup kompleks, maka untuk mempersingkat waktu training, kita akan mengecilkan ukuran image yang ada di dataset menjadi 50 x 50"
      ]
    },
    {
      "cell_type": "code",
      "metadata": {
        "id": "BdIAt8KRP8Z0"
      },
      "source": [
        "import cv2\n",
        "import numpy as np\n",
        "\n",
        "# Gather data train\n",
        "train_data = []\n",
        "train_label = []\n",
        "for r, d, f in os.walk(train_dir):\n",
        "    for file in f:\n",
        "        if \".jpg\" in file:\n",
        "            imagePath = os.path.join(r, file)\n",
        "            image = cv2.imread(imagePath)\n",
        "            image = cv2.resize(image, (50,50))\n",
        "            train_data.append(image)\n",
        "            label = imagePath.split(os.path.sep)[-2]\n",
        "            train_label.append(label)\n",
        "\n",
        "train_data = np.array(train_data)\n",
        "train_label = np.array(train_label)"
      ],
      "execution_count": 4,
      "outputs": []
    },
    {
      "cell_type": "code",
      "metadata": {
        "id": "h-aA7HloP-F3"
      },
      "source": [
        "# Gather data validation\n",
        "val_data = []\n",
        "val_label = []\n",
        "for r, d, f in os.walk(validation_dir):\n",
        "    for file in f:\n",
        "        if \".jpg\" in file:\n",
        "            imagePath = os.path.join(r, file)\n",
        "            image = cv2.imread(imagePath)\n",
        "            image = cv2.resize(image, (50,50))\n",
        "            val_data.append(image)\n",
        "            label = imagePath.split(os.path.sep)[-2]\n",
        "            val_label.append(label)\n",
        "\n",
        "val_data = np.array(val_data)\n",
        "val_label = np.array(val_label)"
      ],
      "execution_count": 5,
      "outputs": []
    },
    {
      "cell_type": "markdown",
      "metadata": {
        "id": "_KOtVazMQDIL"
      },
      "source": [
        "<h3>Data Preprocessing</h3>"
      ]
    },
    {
      "cell_type": "code",
      "metadata": {
        "id": "JWvbLZ3AP_rg",
        "colab": {
          "base_uri": "https://localhost:8080/"
        },
        "outputId": "fa655516-2ccf-424c-d768-d99b3fea60c0"
      },
      "source": [
        "# Tampilkan shape dari data train dan data validation\n",
        "print(\"Train Data = \", train_data.shape)\n",
        "print(\"Train Label = \", train_label.shape)\n",
        "print(\"Validation Data = \", val_data.shape)\n",
        "print(\"Validation Label = \", val_label.shape)"
      ],
      "execution_count": 6,
      "outputs": [
        {
          "output_type": "stream",
          "text": [
            "Train Data =  (2000, 50, 50, 3)\n",
            "Train Label =  (2000,)\n",
            "Validation Data =  (1000, 50, 50, 3)\n",
            "Validation Label =  (1000,)\n"
          ],
          "name": "stdout"
        }
      ]
    },
    {
      "cell_type": "code",
      "metadata": {
        "id": "dw6SkIMVQFKX",
        "colab": {
          "base_uri": "https://localhost:8080/"
        },
        "outputId": "0d43ff89-3c6d-4f73-e275-f18b0415ad5f"
      },
      "source": [
        "# Normalisasi dataset\n",
        "print(\"Data sebelum di-normalisasi \", train_data[0][0][0])\n",
        "\n",
        "x_train = train_data.astype('float32') / 255.0\n",
        "x_val = val_data.astype('float32') / 255.0\n",
        "print(\"Data setelah di-normalisasi \", x_train[0][0][0])"
      ],
      "execution_count": 7,
      "outputs": [
        {
          "output_type": "stream",
          "text": [
            "Data sebelum di-normalisasi  [226 235 238]\n",
            "Data setelah di-normalisasi  [0.8862745  0.92156863 0.93333334]\n"
          ],
          "name": "stdout"
        }
      ]
    },
    {
      "cell_type": "code",
      "metadata": {
        "id": "LQsik6UNQGsF",
        "colab": {
          "base_uri": "https://localhost:8080/"
        },
        "outputId": "0d5d062f-928d-4f5b-cf52-6ea5a26ac2c4"
      },
      "source": [
        "# Transformasi label encoder\n",
        "from sklearn.preprocessing import LabelEncoder\n",
        "\n",
        "print(\"Label sebelum di-encoder \", train_label[995:1005])\n",
        "\n",
        "lb = LabelEncoder()\n",
        "y_train = lb.fit_transform(train_label)\n",
        "y_val = lb.fit_transform(val_label)\n",
        "\n",
        "print(\"Label setelah di-encoder \", y_train[995:1005])"
      ],
      "execution_count": 8,
      "outputs": [
        {
          "output_type": "stream",
          "text": [
            "Label sebelum di-encoder  ['cats' 'cats' 'cats' 'cats' 'cats' 'dogs' 'dogs' 'dogs' 'dogs' 'dogs']\n",
            "Label setelah di-encoder  [0 0 0 0 0 1 1 1 1 1]\n"
          ],
          "name": "stdout"
        }
      ]
    },
    {
      "cell_type": "code",
      "metadata": {
        "id": "FsbBODy7QIFe"
      },
      "source": [
        "from tensorflow.keras.preprocessing.image import ImageDataGenerator\n",
        "aug = ImageDataGenerator(rotation_range=30, width_shift_range=0.1,\n",
        "                        height_shift_range=0.1, shear_range=0.2, \n",
        "                        zoom_range=0.8, horizontal_flip=True,\n",
        "                        fill_mode=\"nearest\")"
      ],
      "execution_count": 9,
      "outputs": []
    },
    {
      "cell_type": "markdown",
      "metadata": {
        "id": "Ft6AEsP-QQPa"
      },
      "source": [
        "<h3>Definisikan Model</h3>"
      ]
    },
    {
      "cell_type": "markdown",
      "metadata": {
        "id": "-6zHUVlwUZ33"
      },
      "source": [
        "Dalam transfer learning, ada beberapa teknik yang bisa digunakan. Diantaranya:\n",
        "*   *Direct Used* (Langsung menggunakan model dan bobot yang ada)\n",
        "*   *Network Surgery* (Menggunakan arsitektur dan bobot yang sama untuk Feature Extracted Layer, akan tetapi membuat Fully Connected Layer sendiri, dan melakukan training bobot khusus untuk Fully Connected Layer tersebut)\n",
        "*   *Learning from Scratch* (Menggunakan arsitektur dari model sebelumnya, tapi tidak menggunakan bobotnya. Sehingga bobot harus ditraining ulang menggunakan dataset kita sendiri)\n",
        "*   Gabungan dari ketiganya"
      ]
    },
    {
      "cell_type": "markdown",
      "metadata": {
        "id": "kSYbtQK9WHeR"
      },
      "source": [
        "Pada praktikum kali ini, kita akan mencoba menggunakan teknik *Network Surgery*. Dimana kita akan menggunakan Feature Extracted Layer dari model sebelumnya (disini kita akan menggunakan \"VGG16\"), kemudian kita pasangkan dengan Fully Connected Layer yang kita buat sendiri."
      ]
    },
    {
      "cell_type": "code",
      "metadata": {
        "id": "mQypcyjoQMoo"
      },
      "source": [
        "# Pertama, kita import dulu library yang dibutuhkan\n",
        "from tensorflow.keras.models import Model\n",
        "from tensorflow.keras.layers import Dense, Flatten, Dropout, Input\n",
        "from tensorflow.keras.applications.vgg16 import VGG16"
      ],
      "execution_count": 10,
      "outputs": []
    },
    {
      "cell_type": "code",
      "metadata": {
        "id": "osDYH4olW-g_",
        "colab": {
          "base_uri": "https://localhost:8080/"
        },
        "outputId": "cc8aca2e-342e-40d6-ecc6-8f622a4d4662"
      },
      "source": [
        "# Kita load model VGG16, kemudian kita potong bagian Top atau Fully Connected Layernya\n",
        "baseModel = VGG16(include_top=False, input_tensor=Input(shape=(50, 50, 3)))"
      ],
      "execution_count": 11,
      "outputs": [
        {
          "output_type": "stream",
          "text": [
            "Downloading data from https://storage.googleapis.com/tensorflow/keras-applications/vgg16/vgg16_weights_tf_dim_ordering_tf_kernels_notop.h5\n",
            "58892288/58889256 [==============================] - 0s 0us/step\n"
          ],
          "name": "stdout"
        }
      ]
    },
    {
      "cell_type": "code",
      "metadata": {
        "id": "hnxRvJGkbw6N",
        "colab": {
          "base_uri": "https://localhost:8080/"
        },
        "outputId": "88091719-3c9c-46a0-8cc2-d5c1ca818fc9"
      },
      "source": [
        "baseModel.summary()"
      ],
      "execution_count": 12,
      "outputs": [
        {
          "output_type": "stream",
          "text": [
            "Model: \"vgg16\"\n",
            "_________________________________________________________________\n",
            "Layer (type)                 Output Shape              Param #   \n",
            "=================================================================\n",
            "input_1 (InputLayer)         [(None, 50, 50, 3)]       0         \n",
            "_________________________________________________________________\n",
            "block1_conv1 (Conv2D)        (None, 50, 50, 64)        1792      \n",
            "_________________________________________________________________\n",
            "block1_conv2 (Conv2D)        (None, 50, 50, 64)        36928     \n",
            "_________________________________________________________________\n",
            "block1_pool (MaxPooling2D)   (None, 25, 25, 64)        0         \n",
            "_________________________________________________________________\n",
            "block2_conv1 (Conv2D)        (None, 25, 25, 128)       73856     \n",
            "_________________________________________________________________\n",
            "block2_conv2 (Conv2D)        (None, 25, 25, 128)       147584    \n",
            "_________________________________________________________________\n",
            "block2_pool (MaxPooling2D)   (None, 12, 12, 128)       0         \n",
            "_________________________________________________________________\n",
            "block3_conv1 (Conv2D)        (None, 12, 12, 256)       295168    \n",
            "_________________________________________________________________\n",
            "block3_conv2 (Conv2D)        (None, 12, 12, 256)       590080    \n",
            "_________________________________________________________________\n",
            "block3_conv3 (Conv2D)        (None, 12, 12, 256)       590080    \n",
            "_________________________________________________________________\n",
            "block3_pool (MaxPooling2D)   (None, 6, 6, 256)         0         \n",
            "_________________________________________________________________\n",
            "block4_conv1 (Conv2D)        (None, 6, 6, 512)         1180160   \n",
            "_________________________________________________________________\n",
            "block4_conv2 (Conv2D)        (None, 6, 6, 512)         2359808   \n",
            "_________________________________________________________________\n",
            "block4_conv3 (Conv2D)        (None, 6, 6, 512)         2359808   \n",
            "_________________________________________________________________\n",
            "block4_pool (MaxPooling2D)   (None, 3, 3, 512)         0         \n",
            "_________________________________________________________________\n",
            "block5_conv1 (Conv2D)        (None, 3, 3, 512)         2359808   \n",
            "_________________________________________________________________\n",
            "block5_conv2 (Conv2D)        (None, 3, 3, 512)         2359808   \n",
            "_________________________________________________________________\n",
            "block5_conv3 (Conv2D)        (None, 3, 3, 512)         2359808   \n",
            "_________________________________________________________________\n",
            "block5_pool (MaxPooling2D)   (None, 1, 1, 512)         0         \n",
            "=================================================================\n",
            "Total params: 14,714,688\n",
            "Trainable params: 14,714,688\n",
            "Non-trainable params: 0\n",
            "_________________________________________________________________\n"
          ],
          "name": "stdout"
        }
      ]
    },
    {
      "cell_type": "markdown",
      "metadata": {
        "id": "5kxXI53lLhUh"
      },
      "source": [
        "Bisa dilihat di model.summary() di atas, VGG16 memiliki total 19 layer pada Feature Extraction Layer-nya. Serta memiliki 14,7 juta parameter yang harus ditrain. Akan tetapi, disini kita akan menggunakan bobot default milik VGG16. Bobot ini telah dilatih sebelumnya menggunakan dataset 'imagenet'. Dataset ini berisi kumpulan data image yang jumlahnya jutaan. Sehingga, kita tidak perlu melatihnya kembali."
      ]
    },
    {
      "cell_type": "markdown",
      "metadata": {
        "id": "kEj52aDFM4mv"
      },
      "source": [
        "Berikutnya, kita akan mendefinisikan Fully Conected Layer kita sendiri. Layer ini nantinya akan kita pasangkan dengan Feature Extraction Layer milik VGG16"
      ]
    },
    {
      "cell_type": "code",
      "metadata": {
        "id": "7aLT-C07b88_"
      },
      "source": [
        "class FCHeadNet:\n",
        "  def build(baseModel, classes, D):\n",
        "    headModel = baseModel.output\n",
        "    headModel = Flatten(name=\"flatten\")(headModel)\n",
        "    headModel = Dense(D, activation='elu')(headModel)\n",
        "    headModel = Dropout(0.5)(headModel)\n",
        "    headModel = Dense(classes, activation='sigmoid')(headModel)\n",
        "    return headModel"
      ],
      "execution_count": 13,
      "outputs": []
    },
    {
      "cell_type": "code",
      "metadata": {
        "id": "WsBMKvwGdNii"
      },
      "source": [
        "headModel = FCHeadNet.build(baseModel, 1, 256)\n",
        "model = Model(inputs=baseModel.input, outputs=headModel)"
      ],
      "execution_count": 14,
      "outputs": []
    },
    {
      "cell_type": "markdown",
      "metadata": {
        "id": "Po83EhmQNLd6"
      },
      "source": [
        "Agar nantinya model hanya perlu melakukan train pada bobot yang terdapat pada Fully Connected Layer, maka kita perlu membekukan (*Freeze*) Feature Extraction Layer milik VGG16 menggunakan code di bawah"
      ]
    },
    {
      "cell_type": "code",
      "metadata": {
        "id": "yOs9xsUAglN4"
      },
      "source": [
        "for layer in baseModel.layers:\n",
        "  layer.trainable = False"
      ],
      "execution_count": 16,
      "outputs": []
    },
    {
      "cell_type": "code",
      "metadata": {
        "id": "SqC8GgC5e26u",
        "colab": {
          "base_uri": "https://localhost:8080/"
        },
        "outputId": "dd81db7c-da09-4fe0-ea89-61ebe66b859a"
      },
      "source": [
        "model.summary()"
      ],
      "execution_count": 17,
      "outputs": [
        {
          "output_type": "stream",
          "text": [
            "Model: \"model\"\n",
            "_________________________________________________________________\n",
            "Layer (type)                 Output Shape              Param #   \n",
            "=================================================================\n",
            "input_1 (InputLayer)         [(None, 50, 50, 3)]       0         \n",
            "_________________________________________________________________\n",
            "block1_conv1 (Conv2D)        (None, 50, 50, 64)        1792      \n",
            "_________________________________________________________________\n",
            "block1_conv2 (Conv2D)        (None, 50, 50, 64)        36928     \n",
            "_________________________________________________________________\n",
            "block1_pool (MaxPooling2D)   (None, 25, 25, 64)        0         \n",
            "_________________________________________________________________\n",
            "block2_conv1 (Conv2D)        (None, 25, 25, 128)       73856     \n",
            "_________________________________________________________________\n",
            "block2_conv2 (Conv2D)        (None, 25, 25, 128)       147584    \n",
            "_________________________________________________________________\n",
            "block2_pool (MaxPooling2D)   (None, 12, 12, 128)       0         \n",
            "_________________________________________________________________\n",
            "block3_conv1 (Conv2D)        (None, 12, 12, 256)       295168    \n",
            "_________________________________________________________________\n",
            "block3_conv2 (Conv2D)        (None, 12, 12, 256)       590080    \n",
            "_________________________________________________________________\n",
            "block3_conv3 (Conv2D)        (None, 12, 12, 256)       590080    \n",
            "_________________________________________________________________\n",
            "block3_pool (MaxPooling2D)   (None, 6, 6, 256)         0         \n",
            "_________________________________________________________________\n",
            "block4_conv1 (Conv2D)        (None, 6, 6, 512)         1180160   \n",
            "_________________________________________________________________\n",
            "block4_conv2 (Conv2D)        (None, 6, 6, 512)         2359808   \n",
            "_________________________________________________________________\n",
            "block4_conv3 (Conv2D)        (None, 6, 6, 512)         2359808   \n",
            "_________________________________________________________________\n",
            "block4_pool (MaxPooling2D)   (None, 3, 3, 512)         0         \n",
            "_________________________________________________________________\n",
            "block5_conv1 (Conv2D)        (None, 3, 3, 512)         2359808   \n",
            "_________________________________________________________________\n",
            "block5_conv2 (Conv2D)        (None, 3, 3, 512)         2359808   \n",
            "_________________________________________________________________\n",
            "block5_conv3 (Conv2D)        (None, 3, 3, 512)         2359808   \n",
            "_________________________________________________________________\n",
            "block5_pool (MaxPooling2D)   (None, 1, 1, 512)         0         \n",
            "_________________________________________________________________\n",
            "flatten (Flatten)            (None, 512)               0         \n",
            "_________________________________________________________________\n",
            "dense (Dense)                (None, 256)               131328    \n",
            "_________________________________________________________________\n",
            "dropout (Dropout)            (None, 256)               0         \n",
            "_________________________________________________________________\n",
            "dense_1 (Dense)              (None, 1)                 257       \n",
            "=================================================================\n",
            "Total params: 14,846,273\n",
            "Trainable params: 131,585\n",
            "Non-trainable params: 14,714,688\n",
            "_________________________________________________________________\n"
          ],
          "name": "stdout"
        }
      ]
    },
    {
      "cell_type": "markdown",
      "metadata": {
        "id": "R3K2-ZBbNgw4"
      },
      "source": [
        "Dalam model.summary() di atas, terlihat bahwa parameter yang *trainable* hanya parameter milik Fully Connected Layer, sedangkan bobot-bobot lain yang merupakan bawaan dari VGG16 tidak ikut dilatih."
      ]
    },
    {
      "cell_type": "markdown",
      "metadata": {
        "id": "t9IG1GaVN0ge"
      },
      "source": [
        "Kemudian, kita tinggal mengcompile dan melatih model tersebut"
      ]
    },
    {
      "cell_type": "code",
      "metadata": {
        "id": "v0UNxTiUfDyJ"
      },
      "source": [
        "from tensorflow.keras.optimizers import Adam\n",
        "\n",
        "model.compile(optimizer=Adam(lr=1e-3), \n",
        "              loss='binary_crossentropy', \n",
        "              metrics=['acc'])"
      ],
      "execution_count": 18,
      "outputs": []
    },
    {
      "cell_type": "code",
      "metadata": {
        "id": "A64MjPnnfNCY",
        "colab": {
          "base_uri": "https://localhost:8080/"
        },
        "outputId": "e5d0ebb5-e58f-4f83-cc76-0e73649ba004"
      },
      "source": [
        "H = model.fit_generator(aug.flow(x_train, y_train, batch_size=20),\n",
        "                        validation_data=(x_val, y_val), epochs=15)"
      ],
      "execution_count": 19,
      "outputs": [
        {
          "output_type": "stream",
          "text": [
            "/usr/local/lib/python3.6/dist-packages/tensorflow/python/keras/engine/training.py:1844: UserWarning: `Model.fit_generator` is deprecated and will be removed in a future version. Please use `Model.fit`, which supports generators.\n",
            "  warnings.warn('`Model.fit_generator` is deprecated and '\n"
          ],
          "name": "stderr"
        },
        {
          "output_type": "stream",
          "text": [
            "Epoch 1/15\n",
            "100/100 [==============================] - 47s 457ms/step - loss: 0.7461 - acc: 0.5724 - val_loss: 0.5955 - val_acc: 0.6780\n",
            "Epoch 2/15\n",
            "100/100 [==============================] - 45s 449ms/step - loss: 0.6947 - acc: 0.6096 - val_loss: 0.6422 - val_acc: 0.6380\n",
            "Epoch 3/15\n",
            "100/100 [==============================] - 45s 452ms/step - loss: 0.6462 - acc: 0.6491 - val_loss: 0.6050 - val_acc: 0.6660\n",
            "Epoch 4/15\n",
            "100/100 [==============================] - 45s 449ms/step - loss: 0.6397 - acc: 0.6337 - val_loss: 0.5335 - val_acc: 0.7400\n",
            "Epoch 5/15\n",
            "100/100 [==============================] - 45s 451ms/step - loss: 0.6257 - acc: 0.6342 - val_loss: 0.5857 - val_acc: 0.6840\n",
            "Epoch 6/15\n",
            "100/100 [==============================] - 45s 449ms/step - loss: 0.6204 - acc: 0.6625 - val_loss: 0.5360 - val_acc: 0.7260\n",
            "Epoch 7/15\n",
            "100/100 [==============================] - 45s 449ms/step - loss: 0.6268 - acc: 0.6494 - val_loss: 0.5423 - val_acc: 0.7270\n",
            "Epoch 8/15\n",
            "100/100 [==============================] - 45s 447ms/step - loss: 0.6097 - acc: 0.6611 - val_loss: 0.5272 - val_acc: 0.7500\n",
            "Epoch 9/15\n",
            "100/100 [==============================] - 45s 449ms/step - loss: 0.5824 - acc: 0.7011 - val_loss: 0.5278 - val_acc: 0.7430\n",
            "Epoch 10/15\n",
            "100/100 [==============================] - 45s 449ms/step - loss: 0.6140 - acc: 0.6580 - val_loss: 0.5309 - val_acc: 0.7460\n",
            "Epoch 11/15\n",
            "100/100 [==============================] - 45s 447ms/step - loss: 0.5970 - acc: 0.6895 - val_loss: 0.5561 - val_acc: 0.7170\n",
            "Epoch 12/15\n",
            "100/100 [==============================] - 45s 450ms/step - loss: 0.5892 - acc: 0.6827 - val_loss: 0.5358 - val_acc: 0.7390\n",
            "Epoch 13/15\n",
            "100/100 [==============================] - 45s 449ms/step - loss: 0.5917 - acc: 0.6747 - val_loss: 0.5535 - val_acc: 0.7190\n",
            "Epoch 14/15\n",
            "100/100 [==============================] - 45s 447ms/step - loss: 0.6215 - acc: 0.6525 - val_loss: 0.5574 - val_acc: 0.7100\n",
            "Epoch 15/15\n",
            "100/100 [==============================] - 44s 446ms/step - loss: 0.5978 - acc: 0.6701 - val_loss: 0.5461 - val_acc: 0.7260\n"
          ],
          "name": "stdout"
        }
      ]
    },
    {
      "cell_type": "markdown",
      "metadata": {
        "id": "l-J7NsE4OeUS"
      },
      "source": [
        "<h3>Evaluasi Model</h3>"
      ]
    },
    {
      "cell_type": "code",
      "metadata": {
        "id": "89IqBf43fQkX",
        "colab": {
          "base_uri": "https://localhost:8080/",
          "height": 299
        },
        "outputId": "365f73d6-d9c5-4149-bf89-16b21b92b4be"
      },
      "source": [
        "%matplotlib inline\n",
        "\n",
        "import matplotlib.pyplot as plt\n",
        "\n",
        "plt.style.use(\"ggplot\")\n",
        "plt.figure()\n",
        "plt.axis([0, 15, 0, 2])\n",
        "plt.plot(np.arange(0, 15), H.history[\"loss\"], label=\"train_loss\")\n",
        "plt.plot(np.arange(0, 15), H.history[\"val_loss\"], label=\"val_loss\")\n",
        "plt.title(\"Loss Plot\")\n",
        "plt.xlabel(\"Epoch #\")\n",
        "plt.ylabel(\"Loss\")\n",
        "plt.legend()\n",
        "plt.show()"
      ],
      "execution_count": 20,
      "outputs": [
        {
          "output_type": "display_data",
          "data": {
            "image/png": "[encoded data removed]",
            "text/plain": [
              "<Figure size 432x288 with 1 Axes>"
            ]
          },
          "metadata": {
            "tags": []
          }
        }
      ]
    },
    {
      "cell_type": "code",
      "metadata": {
        "id": "6w9hRDrYDD4J",
        "colab": {
          "base_uri": "https://localhost:8080/",
          "height": 299
        },
        "outputId": "4deaafbe-c6e9-4ac6-d465-10bd7c57135f"
      },
      "source": [
        "%matplotlib inline\n",
        "\n",
        "import matplotlib.pyplot as plt\n",
        "\n",
        "plt.style.use(\"ggplot\")\n",
        "plt.figure()\n",
        "plt.axis([0, 15, 0, 2])\n",
        "plt.plot(np.arange(0, 15), H.history[\"acc\"], label=\"train_acc\")\n",
        "plt.plot(np.arange(0, 15), H.history[\"val_acc\"], label=\"val_acc\")\n",
        "plt.title(\"Accuracy Plot\")\n",
        "plt.xlabel(\"Epoch #\")\n",
        "plt.ylabel(\"Accuracy\")\n",
        "plt.legend()\n",
        "plt.show()"
      ],
      "execution_count": 21,
      "outputs": [
        {
          "output_type": "display_data",
          "data": {
            "image/png": "[encoded data removed]",
            "text/plain": [
              "<Figure size 432x288 with 1 Axes>"
            ]
          },
          "metadata": {
            "tags": []
          }
        }
      ]
    },
    {
      "cell_type": "code",
      "metadata": {
        "id": "ClgLHxMvOJYP",
        "colab": {
          "base_uri": "https://localhost:8080/"
        },
        "outputId": "08e3b340-69d2-4555-9c3c-9902ca2baf7f"
      },
      "source": [
        "from sklearn.metrics import classification_report\n",
        "\n",
        "pred = model.predict(x_val)\n",
        "labels = (pred > 0.5).astype(np.int)\n",
        "\n",
        "print(classification_report(y_val, labels))"
      ],
      "execution_count": 22,
      "outputs": [
        {
          "output_type": "stream",
          "text": [
            "              precision    recall  f1-score   support\n",
            "\n",
            "           0       0.81      0.59      0.68       500\n",
            "           1       0.68      0.86      0.76       500\n",
            "\n",
            "    accuracy                           0.73      1000\n",
            "   macro avg       0.74      0.73      0.72      1000\n",
            "weighted avg       0.74      0.73      0.72      1000\n",
            "\n"
          ],
          "name": "stdout"
        }
      ]
    },
    {
      "cell_type": "markdown",
      "metadata": {
        "id": "uZCppLP9O209"
      },
      "source": [
        "<h3>Save & Load Model</h3>"
      ]
    },
    {
      "cell_type": "markdown",
      "metadata": {
        "id": "Tu3UhZR1Oibk"
      },
      "source": [
        "Untuk menyimpan model beserta bobot yang sudah kita definisikan sebelumnya, kita cukup mengetikkan code berikut:"
      ]
    },
    {
      "cell_type": "code",
      "metadata": {
        "id": "YIsJcb9gO1ls"
      },
      "source": [
        "# save the network to disk\n",
        "model.save(\"modelku.hdf5\")"
      ],
      "execution_count": 23,
      "outputs": []
    },
    {
      "cell_type": "markdown",
      "metadata": {
        "id": "WW4YUHdPO_qi"
      },
      "source": [
        "Sementara untuk me-load model yang telah disimpan, bisa dilakukan dengan cara seperti ini:"
      ]
    },
    {
      "cell_type": "code",
      "metadata": {
        "id": "-Fip293-O-1V"
      },
      "source": [
        "from tensorflow.keras.models import load_model\n",
        "\n",
        "my_model = load_model(\"modelku.hdf5\")"
      ],
      "execution_count": 24,
      "outputs": []
    },
    {
      "cell_type": "code",
      "metadata": {
        "id": "YL71FS6kPu8f",
        "colab": {
          "base_uri": "https://localhost:8080/"
        },
        "outputId": "fd05ae98-e812-400a-8138-ba27a838fe28"
      },
      "source": [
        "my_model.summary()"
      ],
      "execution_count": 25,
      "outputs": [
        {
          "output_type": "stream",
          "text": [
            "Model: \"model\"\n",
            "_________________________________________________________________\n",
            "Layer (type)                 Output Shape              Param #   \n",
            "=================================================================\n",
            "input_1 (InputLayer)         [(None, 50, 50, 3)]       0         \n",
            "_________________________________________________________________\n",
            "block1_conv1 (Conv2D)        (None, 50, 50, 64)        1792      \n",
            "_________________________________________________________________\n",
            "block1_conv2 (Conv2D)        (None, 50, 50, 64)        36928     \n",
            "_________________________________________________________________\n",
            "block1_pool (MaxPooling2D)   (None, 25, 25, 64)        0         \n",
            "_________________________________________________________________\n",
            "block2_conv1 (Conv2D)        (None, 25, 25, 128)       73856     \n",
            "_________________________________________________________________\n",
            "block2_conv2 (Conv2D)        (None, 25, 25, 128)       147584    \n",
            "_________________________________________________________________\n",
            "block2_pool (MaxPooling2D)   (None, 12, 12, 128)       0         \n",
            "_________________________________________________________________\n",
            "block3_conv1 (Conv2D)        (None, 12, 12, 256)       295168    \n",
            "_________________________________________________________________\n",
            "block3_conv2 (Conv2D)        (None, 12, 12, 256)       590080    \n",
            "_________________________________________________________________\n",
            "block3_conv3 (Conv2D)        (None, 12, 12, 256)       590080    \n",
            "_________________________________________________________________\n",
            "block3_pool (MaxPooling2D)   (None, 6, 6, 256)         0         \n",
            "_________________________________________________________________\n",
            "block4_conv1 (Conv2D)        (None, 6, 6, 512)         1180160   \n",
            "_________________________________________________________________\n",
            "block4_conv2 (Conv2D)        (None, 6, 6, 512)         2359808   \n",
            "_________________________________________________________________\n",
            "block4_conv3 (Conv2D)        (None, 6, 6, 512)         2359808   \n",
            "_________________________________________________________________\n",
            "block4_pool (MaxPooling2D)   (None, 3, 3, 512)         0         \n",
            "_________________________________________________________________\n",
            "block5_conv1 (Conv2D)        (None, 3, 3, 512)         2359808   \n",
            "_________________________________________________________________\n",
            "block5_conv2 (Conv2D)        (None, 3, 3, 512)         2359808   \n",
            "_________________________________________________________________\n",
            "block5_conv3 (Conv2D)        (None, 3, 3, 512)         2359808   \n",
            "_________________________________________________________________\n",
            "block5_pool (MaxPooling2D)   (None, 1, 1, 512)         0         \n",
            "_________________________________________________________________\n",
            "flatten (Flatten)            (None, 512)               0         \n",
            "_________________________________________________________________\n",
            "dense (Dense)                (None, 256)               131328    \n",
            "_________________________________________________________________\n",
            "dropout (Dropout)            (None, 256)               0         \n",
            "_________________________________________________________________\n",
            "dense_1 (Dense)              (None, 1)                 257       \n",
            "=================================================================\n",
            "Total params: 14,846,273\n",
            "Trainable params: 131,585\n",
            "Non-trainable params: 14,714,688\n",
            "_________________________________________________________________\n"
          ],
          "name": "stdout"
        }
      ]
    }
  ]
}